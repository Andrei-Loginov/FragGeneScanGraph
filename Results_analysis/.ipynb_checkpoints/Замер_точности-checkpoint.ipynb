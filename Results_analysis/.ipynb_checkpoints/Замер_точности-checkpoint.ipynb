{
 "cells": [
  {
   "cell_type": "code",
   "execution_count": 1,
   "id": "fdd4b183",
   "metadata": {},
   "outputs": [],
   "source": [
    "import numpy as np\n",
    "from collections import Counter"
   ]
  },
  {
   "cell_type": "markdown",
   "id": "2c2a9f8d",
   "metadata": {},
   "source": [
    "# Подготовительные функции"
   ]
  },
  {
   "cell_type": "markdown",
   "id": "2d5710dc",
   "metadata": {},
   "source": [
    "### Комплементарная последовательность"
   ]
  },
  {
   "cell_type": "code",
   "execution_count": 2,
   "id": "aa05c8ab",
   "metadata": {},
   "outputs": [
    {
     "data": {
      "text/plain": [
       "'TTGCAT'"
      ]
     },
     "execution_count": 2,
     "metadata": {},
     "output_type": "execute_result"
    }
   ],
   "source": [
    "complement_nt = {'A' : 'T',\n",
    "                 'T' : 'A',\n",
    "                 'G' : 'C',\n",
    "                 'C' : 'G'}\n",
    "\n",
    "def reverse_complement_sequence(gene):\n",
    "    ans = ''\n",
    "    for i in range(1, len(gene) + 1):\n",
    "        ans = ans + complement_nt[gene[-i]]\n",
    "    return ans\n",
    "reverse_complement_sequence('ATGCAA')"
   ]
  },
  {
   "cell_type": "markdown",
   "id": "94dc7dab",
   "metadata": {},
   "source": [
    "### Удаление стоп-кодона в конце"
   ]
  },
  {
   "cell_type": "code",
   "execution_count": 3,
   "id": "11b86e00",
   "metadata": {},
   "outputs": [],
   "source": [
    "stop_cd_list = ('TAG', 'TAA', 'TGA', 'CAT', 'CAC', 'CAA')\n",
    "def delete_stop_cd(gene):\n",
    "    if (gene[-3:] in stop_cd_list):\n",
    "        return gene[:-3]\n",
    "    return gene"
   ]
  },
  {
   "cell_type": "markdown",
   "id": "3f10db15",
   "metadata": {},
   "source": [
    "### Проверка, есть ли уже этот ген в списке"
   ]
  },
  {
   "cell_type": "code",
   "execution_count": 4,
   "id": "e2c03ced",
   "metadata": {},
   "outputs": [],
   "source": [
    "def is_already_written(gene, genes_list):\n",
    "    gene_cut = delete_stop_cd(gene)\n",
    "    for gn_pair in genes_list:\n",
    "        if (gene == gn_pair['straight'] or gene == gn_pair['rc']\n",
    "           or gene_cut == gn_pair['straight_cut'] or gene_cut == gn_pair['rc_cut']\n",
    "           or gene == gn_pair['straight_cut'] or gene_cut == gn_pair['rc_cut']\n",
    "           or gene_cut == gn_pair['straight'] or gene_cut == gn_pair['rc']):\n",
    "            return True\n",
    "    return False"
   ]
  },
  {
   "cell_type": "markdown",
   "id": "9e55146a",
   "metadata": {},
   "source": [
    "## Считывание генов из файла"
   ]
  },
  {
   "cell_type": "code",
   "execution_count": 5,
   "id": "d9d49158",
   "metadata": {},
   "outputs": [],
   "source": [
    "def read_genes_file(fname : str, file_type = 'ffn'):\n",
    "    file = open(fname, \"r\")\n",
    "    lines = file.readlines()\n",
    "    ans = []\n",
    "    nucleotides = ('A', 'T', 'G', 'C')\n",
    "    for line in lines:\n",
    "        if (file_type == 'txt'):\n",
    "            _, _, gene = map(str, line.split())\n",
    "            if (gene[-1] == '\\n' or gene[-1] == '\\t'):\n",
    "                gene = gene[:-1]\n",
    "            gene_cut = delete_stop_cd(gene)\n",
    "            ans.append({'straight' : gene, \n",
    "                        'rc' : reverse_complement_sequence(gene),\n",
    "                        'straight_cut' : gene_cut,\n",
    "                        'rc_cut' : reverse_complement_sequence(gene_cut)})\n",
    "        if (file_type == 'ffn' or file_type == 'feat.fa'):\n",
    "            if (line[0] in nucleotides and line[1] in nucleotides and line[2] in nucleotides):\n",
    "                if (line[-1] == '\\n'):\n",
    "                    line = line[:-1]\n",
    "                if (line[-1] == '\\t'):\n",
    "                    line = line[:-1]\n",
    "                gene_cut = delete_stop_cd(line)\n",
    "                if (is_already_written(line, ans) == False):\n",
    "                    ans.append({'straight' : line,\n",
    "                                'rc' : reverse_complement_sequence(line),\n",
    "                                'straight_cut' : gene_cut,\n",
    "                                'rc_cut' : reverse_complement_sequence(gene_cut)})\n",
    "    file.close()\n",
    "    return ans"
   ]
  },
  {
   "cell_type": "markdown",
   "id": "0db51d54",
   "metadata": {},
   "source": [
    "# Проверка результатов"
   ]
  },
  {
   "cell_type": "markdown",
   "id": "5725a25d",
   "metadata": {},
   "source": [
    "## Прямой участок"
   ]
  },
  {
   "cell_type": "markdown",
   "id": "77120b28",
   "metadata": {},
   "source": [
    "### Считываем гены"
   ]
  },
  {
   "cell_type": "code",
   "execution_count": 7,
   "id": "bd30f019",
   "metadata": {},
   "outputs": [
    {
     "name": "stdout",
     "output_type": "stream",
     "text": [
      "64\n",
      "60\n",
      "60\n"
     ]
    }
   ],
   "source": [
    "answer_straight = read_genes_file('MG1655-K12.first400K_short_straight.feat.fa')\n",
    "predictions_straight = read_genes_file(\n",
    "    '../example/results/MG1655-K12.first400K_short_straight_gfa.ffn',\n",
    "    file_type = 'ffn')\n",
    "predictions_straight_basic = read_genes_file('./DefaultFragGeneScan_results/MG-1655-K12.first400K_short_straight-fgs.ffn',\n",
    "                    file_type = 'ffn')\n",
    "print(len(answer_straight))\n",
    "print(len(predictions_straight))\n",
    "print(len(predictions_straight_basic))"
   ]
  },
  {
   "cell_type": "markdown",
   "id": "feb259e2",
   "metadata": {},
   "source": []
  },
  {
   "cell_type": "code",
   "execution_count": 8,
   "id": "ecfae472",
   "metadata": {},
   "outputs": [
    {
     "name": "stdout",
     "output_type": "stream",
     "text": [
      "На графе верно предсказано 51 генов\n",
      "На рёбрах верно предсказано 50 генов\n"
     ]
    }
   ],
   "source": [
    "print(\"На графе верно предсказано {0} генов\".format(\n",
    "    np.sum(np.array([is_already_written(predicted_gene['straight'], answer_straight) \n",
    "                        for predicted_gene in predictions_straight]))))\n",
    "print(\"На рёбрах верно предсказано {0} генов\".format(\n",
    "    np.sum(np.array([is_already_written(predicted_gene['straight'], answer_straight) \n",
    "                        for predicted_gene in predictions_straight_basic]))))"
   ]
  },
  {
   "cell_type": "markdown",
   "id": "d541a0bf",
   "metadata": {},
   "source": [
    "## Случай с развилками"
   ]
  },
  {
   "cell_type": "markdown",
   "id": "13a21269",
   "metadata": {},
   "source": [
    "### Считываем"
   ]
  },
  {
   "cell_type": "code",
   "execution_count": 9,
   "id": "89150cdb",
   "metadata": {},
   "outputs": [
    {
     "name": "stdout",
     "output_type": "stream",
     "text": [
      "64\n",
      "61\n",
      "61\n"
     ]
    }
   ],
   "source": [
    "answer_short = read_genes_file('MG1655-K12.first400K_short_straight.feat.fa')\n",
    "predictions_short = read_genes_file(\n",
    "    '../example/results/MG1655-K12.first400K_short_gfa.ffn',\n",
    "    file_type = 'ffn')\n",
    "predictions_short_basic = read_genes_file('./DefaultFragGeneScan_results/MG-1655-K12.first400K_short-fgs.ffn',\n",
    "                    file_type = 'ffn')\n",
    "print(len(answer_short))\n",
    "print(len(predictions_short))\n",
    "print(len(predictions_short_basic))"
   ]
  },
  {
   "cell_type": "code",
   "execution_count": 10,
   "id": "2fd55332",
   "metadata": {},
   "outputs": [
    {
     "name": "stdout",
     "output_type": "stream",
     "text": [
      "На графе верно предсказано 52 генов\n",
      "На рёбрах верно предсказано 50 генов\n"
     ]
    }
   ],
   "source": [
    "print(\"На графе верно предсказано {0} генов\".format(\n",
    "    np.sum(np.array([is_already_written(predicted_gene['straight'], answer_short) \n",
    "                        for predicted_gene in predictions_short]))))\n",
    "print(\"На рёбрах верно предсказано {0} генов\".format(\n",
    "    np.sum(np.array([is_already_written(predicted_gene['straight'], answer_short) \n",
    "                        for predicted_gene in predictions_short_basic]))))"
   ]
  },
  {
   "cell_type": "markdown",
   "id": "208b01d2",
   "metadata": {},
   "source": [
    "# Граф для первых 400k"
   ]
  },
  {
   "cell_type": "code",
   "execution_count": 10,
   "id": "a610e838",
   "metadata": {},
   "outputs": [
    {
     "name": "stdout",
     "output_type": "stream",
     "text": [
      "426\n",
      "421\n",
      "384\n"
     ]
    }
   ],
   "source": [
    "answer_sub = read_genes_file('MG1655-K12.first400K.feat.fa')\n",
    "predictions_sub = read_genes_file(\n",
    "    '../example/results/MG1655-K12.first400K_gfa.ffn',\n",
    "    file_type = 'ffn')\n",
    "predictions_sub_basic = read_genes_file('./DefaultFragGeneScan_results/MG-1655-K12.first400K-fgs.ffn',\n",
    "                    file_type = 'ffn')\n",
    "print(len(answer_sub))\n",
    "print(len(predictions_sub))\n",
    "print(len(predictions_sub_basic))"
   ]
  },
  {
   "cell_type": "code",
   "execution_count": 11,
   "id": "d7678f90",
   "metadata": {},
   "outputs": [
    {
     "name": "stdout",
     "output_type": "stream",
     "text": [
      "На графе верно предсказано 199 генов\n",
      "На рёбрах верно предсказано 193 генов\n"
     ]
    }
   ],
   "source": [
    "print(\"На графе верно предсказано {0} генов\".format(\n",
    "    np.sum(np.array([is_already_written(predicted_gene['straight'], answer_sub) \n",
    "                        for predicted_gene in predictions_sub]))))\n",
    "print(\"На рёбрах верно предсказано {0} генов\".format(\n",
    "    np.sum(np.array([is_already_written(predicted_gene['straight'], answer_sub) \n",
    "                        for predicted_gene in predictions_sub_basic]))))"
   ]
  },
  {
   "cell_type": "markdown",
   "id": "a0ea266a",
   "metadata": {},
   "source": [
    "# Совсем полный граф"
   ]
  },
  {
   "cell_type": "code",
   "execution_count": 12,
   "id": "d9c26a1b",
   "metadata": {},
   "outputs": [
    {
     "name": "stdout",
     "output_type": "stream",
     "text": [
      "4647\n",
      "5095\n",
      "4586\n"
     ]
    }
   ],
   "source": [
    "answer_whole = read_genes_file('MG1655-K12.feat.fa')\n",
    "predictions_whole = read_genes_file(\n",
    "    '../example/results/MG1655-K12_gfa.ffn',\n",
    "    file_type = 'ffn')\n",
    "predictions_whole_basic = read_genes_file('./DefaultFragGeneScan_results/MG-1655-K12-fgs.ffn',\n",
    "                    file_type = 'ffn')\n",
    "print(len(answer_whole))\n",
    "print(len(predictions_whole))\n",
    "print(len(predictions_whole_basic))"
   ]
  },
  {
   "cell_type": "code",
   "execution_count": 17,
   "id": "ff0d6b43",
   "metadata": {},
   "outputs": [
    {
     "name": "stdout",
     "output_type": "stream",
     "text": [
      "На графе верно предсказано 3539 генов\n",
      "На рёбрах верно предсказано 3421 генов\n"
     ]
    }
   ],
   "source": [
    "print(\"На графе верно предсказано {0} генов\".format(\n",
    "    np.sum(np.array([is_already_written(predicted_gene['straight'], answer_whole) \n",
    "                        for predicted_gene in predictions_whole]))))\n",
    "print(\"На рёбрах верно предсказано {0} генов\".format(\n",
    "    np.sum(np.array([is_already_written(predicted_gene['straight'], answer_whole) \n",
    "                        for predicted_gene in predictions_whole_basic]))))"
   ]
  },
  {
   "cell_type": "markdown",
   "id": "64254f55",
   "metadata": {},
   "source": [
    "# Смотрим статистику по нахождению внутри 1 ребра"
   ]
  },
  {
   "cell_type": "code",
   "execution_count": 14,
   "id": "8e34f9a1",
   "metadata": {},
   "outputs": [],
   "source": [
    "def read_gfa(gfa_fname : str):\n",
    "    gfa_file = open(gfa_fname, \"r\")\n",
    "    lines = gfa_file.readlines()\n",
    "    edges = []\n",
    "    for line in lines:\n",
    "        words = line.split()\n",
    "        if (words[0] == \"S\"):\n",
    "            edges.append(words[2])\n",
    "    return edges"
   ]
  },
  {
   "cell_type": "markdown",
   "id": "79e5b821",
   "metadata": {},
   "source": [
    "## Полный граф"
   ]
  },
  {
   "cell_type": "code",
   "execution_count": 15,
   "id": "cc603365",
   "metadata": {},
   "outputs": [
    {
     "data": {
      "text/plain": [
       "856"
      ]
     },
     "execution_count": 15,
     "metadata": {},
     "output_type": "execute_result"
    }
   ],
   "source": [
    "edges400k = read_gfa('../example/MG1655-K12.first400K.gfa')\n",
    "edges_whole = read_gfa('../example/MG1655-K12.gfa')\n",
    "len(edges_whole)"
   ]
  },
  {
   "cell_type": "markdown",
   "id": "5fda4f30",
   "metadata": {},
   "source": [
    "# Смотрим, сколько генов на графе расположены больше, чем на 1 ребре"
   ]
  },
  {
   "cell_type": "code",
   "execution_count": 36,
   "id": "f9e170e2",
   "metadata": {},
   "outputs": [
    {
     "name": "stdout",
     "output_type": "stream",
     "text": [
      "Из 5095 предсказанных генов на одном ребре расположены 4751\n"
     ]
    }
   ],
   "source": [
    "predicted_on_one_edge_cnt = 0\n",
    "for pred in predictions_whole:\n",
    "    fl = False\n",
    "    for edge in edges_whole:\n",
    "        if (pred['straight'] in edge or pred['rc'] in edge):\n",
    "            fl = True\n",
    "            break;\n",
    "    if (fl):\n",
    "        predicted_on_one_edge_cnt += 1\n",
    "print(\"Из {0} предсказанных генов на одном ребре расположены {1}\".format(\n",
    "                                                                        len(predictions_whole), \n",
    "                                                                        predicted_on_one_edge_cnt))"
   ]
  },
  {
   "cell_type": "code",
   "execution_count": 37,
   "id": "b2f5daa0",
   "metadata": {},
   "outputs": [
    {
     "name": "stdout",
     "output_type": "stream",
     "text": [
      "Из 3539 верно предсказанных генов на одном ребре расположены 3525\n"
     ]
    }
   ],
   "source": [
    "correctly_predicted = []\n",
    "for pred in predictions_whole:\n",
    "    if (is_already_written(pred['straight'], answer_whole)):\n",
    "        correctly_predicted.append(pred)\n",
    "correctly_predicted_on_one_edge_cnt = 0\n",
    "for pred in correctly_predicted:\n",
    "    fl = False\n",
    "    for edge in edges_whole:\n",
    "        if (pred['straight'] in edge or pred['rc'] in edge):\n",
    "            fl = True\n",
    "            break;\n",
    "            \n",
    "    if (fl):\n",
    "        correctly_predicted_on_one_edge_cnt += 1\n",
    "print(\"Из {0} верно предсказанных генов на одном ребре расположены {1}\".format(\n",
    "                                                                        len(correctly_predicted), \n",
    "                                                                        correctly_predicted_on_one_edge_cnt))"
   ]
  },
  {
   "cell_type": "markdown",
   "id": "1fff5d8e",
   "metadata": {},
   "source": [
    "## Укороченный граф"
   ]
  },
  {
   "cell_type": "code",
   "execution_count": 38,
   "id": "38d4787b",
   "metadata": {},
   "outputs": [
    {
     "name": "stdout",
     "output_type": "stream",
     "text": [
      "Из 432 предсказанных генов на одном ребре расположены 417\n"
     ]
    }
   ],
   "source": [
    "predicted_on_one_edge_cnt = 0\n",
    "for pred in predictions_sub:\n",
    "    fl = False\n",
    "    for edge in edges400k:\n",
    "        if (pred['straight'] in edge or pred['rc'] in edge):\n",
    "            fl = True\n",
    "            break;\n",
    "    if (fl):\n",
    "        predicted_on_one_edge_cnt += 1\n",
    "print(\"Из {0} предсказанных генов на одном ребре расположены {1}\".format(\n",
    "                                                                        len(predictions_sub), \n",
    "                                                                        predicted_on_one_edge_cnt))"
   ]
  },
  {
   "cell_type": "code",
   "execution_count": 39,
   "id": "ab760492",
   "metadata": {},
   "outputs": [
    {
     "name": "stdout",
     "output_type": "stream",
     "text": [
      "Из 199 верно предсказанных генов на одном ребре расположены 198\n"
     ]
    }
   ],
   "source": [
    "correctly_predicted = []\n",
    "for pred in predictions_sub:\n",
    "    if (is_already_written(pred['straight'], answer_sub)):\n",
    "        correctly_predicted.append(pred)\n",
    "correctly_predicted_on_one_edge_cnt = 0\n",
    "for pred in correctly_predicted:\n",
    "    fl = False\n",
    "    for edge in edges400k:\n",
    "        if (pred['straight'] in edge or pred['rc'] in edge):\n",
    "            fl = True\n",
    "            break;\n",
    "            \n",
    "    if (fl):\n",
    "        correctly_predicted_on_one_edge_cnt += 1\n",
    "print(\"Из {0} верно предсказанных генов на одном ребре расположены {1}\".format(\n",
    "                                                                        len(correctly_predicted), \n",
    "                                                                        correctly_predicted_on_one_edge_cnt))"
   ]
  },
  {
   "cell_type": "markdown",
   "id": "02fbdd44",
   "metadata": {},
   "source": [
    "# Смотрим распределение генов по числу рёбер"
   ]
  },
  {
   "cell_type": "code",
   "execution_count": 42,
   "id": "5cf0955d",
   "metadata": {},
   "outputs": [
    {
     "name": "stdout",
     "output_type": "stream",
     "text": [
      "Из 426 истинных генов 400 расположены на 1 ребре\n"
     ]
    }
   ],
   "source": [
    "count_on_one_edge_sub = 0\n",
    "for gene in answer_sub:\n",
    "    fl = False\n",
    "    for edge in edges400k:\n",
    "        if (gene['straight'] in edge or gene['rc'] in edge):\n",
    "            fl = True\n",
    "            break;\n",
    "    if (fl):\n",
    "        count_on_one_edge_sub += 1\n",
    "print(\"Из {0} истинных генов {1} расположены на 1 ребре\".format(len(answer_sub), count_on_one_edge_sub))"
   ]
  },
  {
   "cell_type": "code",
   "execution_count": 44,
   "id": "fc2c3bb8",
   "metadata": {},
   "outputs": [
    {
     "name": "stdout",
     "output_type": "stream",
     "text": [
      "Из 4647 истинных генов 4521 расположены на 1 ребре\n"
     ]
    }
   ],
   "source": [
    "count_on_one_edge_whole = 0\n",
    "for gene in answer_whole:\n",
    "    fl = False\n",
    "    for edge in edges_whole:\n",
    "        if (gene['straight'] in edge or gene['rc'] in edge):\n",
    "            fl = True\n",
    "            break;\n",
    "    if (fl):\n",
    "        count_on_one_edge_whole += 1\n",
    "print(\"Из {0} истинных генов {1} расположены на 1 ребре\".format(len(answer_whole), count_on_one_edge_whole))"
   ]
  },
  {
   "cell_type": "code",
   "execution_count": null,
   "id": "76d73d29",
   "metadata": {},
   "outputs": [],
   "source": []
  }
 ],
 "metadata": {
  "kernelspec": {
   "display_name": "Python 3 (ipykernel)",
   "language": "python",
   "name": "python3"
  },
  "language_info": {
   "codemirror_mode": {
    "name": "ipython",
    "version": 3
   },
   "file_extension": ".py",
   "mimetype": "text/x-python",
   "name": "python",
   "nbconvert_exporter": "python",
   "pygments_lexer": "ipython3",
   "version": "3.11.4"
  }
 },
 "nbformat": 4,
 "nbformat_minor": 5
}
